{
 "cells": [
  {
   "cell_type": "code",
   "execution_count": null,
   "metadata": {},
   "outputs": [],
   "source": [
    "#Import all necessary libraries\n",
    "#------------------------------\n",
    "import os\n",
    "import plotly.io as pio\n",
    "import plotly.express as px\n",
    "import regex as re\n",
    "import pandas as pd\n",
    "import matplotlib \n",
    "from fbprophet import Prophet\n",
    "from sklearn.metrics import mean_absolute_percentage_error"
   ]
  },
  {
   "cell_type": "code",
   "execution_count": null,
   "metadata": {},
   "outputs": [],
   "source": [
    "#Open raw data\n",
    "#-----------------------------------------------------------------------\n",
    "\n",
    "path_csv = '/Users/mattiaficarelli/Documents/GitHub/nhsx/multiverse_sales_modelling/raw_data/sales_data_raw.csv'\n",
    "df = pd.read_csv(path_csv)\n",
    "df_1 = df[['PurchaseOrderID','OrderDate']]\n",
    "df_1['Orders'] = 1\n",
    "df_2 = df_1.groupby(\"OrderDate\").sum().drop(columns=['PurchaseOrderID']).reset_index()\n",
    "df_2['y'] = df_2['Orders'].cumsum()\n",
    "df_3 = df_2.rename(columns = {\"OrderDate\": \"ds\"}).drop(columns=['Orders']).reset_index(drop = True)\n",
    "df_prophet = df_3.copy()\n",
    "\n",
    "#Group data by month\n",
    "#-----------------------------------------------------------------------\n",
    "df_prophet['ds'] = pd.to_datetime(df_prophet['ds']).dt.strftime('%Y-%m')\n",
    "df_prophet_1 = df_prophet.groupby('ds').sum().reset_index()\n",
    "\n",
    "#Intialise prophet model\n",
    "#-------------------------------------------------------------------\n",
    "model = Prophet()\n",
    "model.fit(df_prophet_1)"
   ]
  },
  {
   "cell_type": "code",
   "execution_count": null,
   "metadata": {},
   "outputs": [],
   "source": [
    "#Save raw data to .csv\n",
    "#-----------------------------------------------------------------------\n",
    "df_prophet.to_csv(\"data/cleaned_data_prophet.csv\")"
   ]
  },
  {
   "cell_type": "code",
   "execution_count": null,
   "metadata": {},
   "outputs": [],
   "source": [
    "# Check accuracy of model by aligning it to 18 months of data (2015-01 to 2016-05)\n",
    "#---------------------------------------------------------------------------------\n",
    "\n",
    "historical_check = list()\n",
    "for i in range(1, 13):\n",
    "\tdate = '2015-%01d' % i\n",
    "\thistorical_check.append([date])\n",
    "for i in range(1, 6):\n",
    "\tdate = '2016-%01d' % i\n",
    "\thistorical_check.append([date])\n",
    "historical_check = pd.DataFrame(historical_check)\n",
    "historical_check.columns = ['ds']\n",
    "historical_check['ds']= pd.to_datetime(historical_check['ds'])\n",
    "historical_check_forecast = model.predict(historical_check)\n",
    "\n",
    "\n",
    "# summarize the historical check forecast in a df\n",
    "#-------------------------------------------------\n",
    "\n",
    "historical_forecast = pd.DataFrame(historical_check_forecast[['ds', 'yhat', 'yhat_lower', 'yhat_upper']])\n",
    "\n",
    "#Format and plot graphical output of model\n",
    "#------------------------------------------\n",
    "\n",
    "model.plot(historical_check_forecast)\n",
    "matplotlib.pyplot.xlabel(\"Date\")\n",
    "matplotlib.pyplot.ylabel(\"Total sales\")\n"
   ]
  },
  {
   "cell_type": "code",
   "execution_count": null,
   "metadata": {},
   "outputs": [],
   "source": [
    "# Use model to predict 18 months of data (2016-05 to 2017-12)\n",
    "#---------------------------------------------------------------------------------\n",
    "\n",
    "future = list()\n",
    "for i in range(6, 13):\n",
    "\tdate = '2016-%01d' % i\n",
    "\tfuture.append([date])\n",
    "for i in range(1, 13):\n",
    "\tdate = '2017-%01d' % i\n",
    "\tfuture.append([date])\n",
    "future = pd.DataFrame(future)\n",
    "future.columns = ['ds']\n",
    "future['ds']= pd.to_datetime(future['ds'])\n",
    "forecast = model.predict(future)\n",
    "\n",
    "# summarize the 18 month predicted forecast in a df\n",
    "#-------------------------------------------------\n",
    "\n",
    "future_forecast = pd.DataFrame(forecast[['ds', 'yhat', 'yhat_lower', 'yhat_upper']])\n",
    "\n",
    "\n",
    "#Format and plot graphical output of future forecast\n",
    "#---------------------------------------------------\n",
    "model.plot(forecast)\n",
    "matplotlib.pyplot.xlabel(\"Date\")\n",
    "matplotlib.pyplot.ylabel(\"Total sales\")\n",
    "\n"
   ]
  },
  {
   "cell_type": "code",
   "execution_count": null,
   "metadata": {},
   "outputs": [],
   "source": [
    "# Use manually evalute forecast model by retaining last 6 months of data\n",
    "#---------------------------------------------------------------------------------\n",
    "\n",
    "train = df_prophet_1.drop(df_prophet_1.index[-6:])\n",
    "\n",
    "# Define and fit the model to data (with last 6 months hidden from it)\n",
    "#---------------------------------------------------------------------------------\n",
    "model = Prophet()\n",
    "model.fit(train)\n",
    "\n",
    "# Define and fit the model to data (with last 6 months hidden from it)\n",
    "#---------------------------------------------------------------------------------\n",
    "\n",
    "future = list()\n",
    "for i in range(1, 6):\n",
    "\tdate = '2016-%01d' % i\n",
    "\tfuture.append([date])\n",
    "future = pd.DataFrame(future)\n",
    "future.columns = ['ds']\n",
    "future['ds'] = pd.to_datetime(future['ds'])\n",
    "\n",
    "# use the model to make a forecast\n",
    "forecast = model.predict(future)\n",
    "\n",
    "# calculate MAE between expected and predicted values for december\n",
    "y_true = df_prophet_1['y'][-12:].values\n",
    "y_pred = forecast['yhat'].values\n",
    "\n",
    "# plot expected vs actual\n",
    "#---------------------------------------------------------------------------------\n",
    "model.plot(forecast)\n",
    "matplotlib.pyplot.xlabel(\"Month\")\n",
    "matplotlib.pyplot.ylabel(\"Total Sales\")\n"
   ]
  },
  {
   "cell_type": "code",
   "execution_count": null,
   "metadata": {},
   "outputs": [],
   "source": [
    "#Calculate the mean absolute error and mean absolute percentage error of model\n",
    "#---------------------------------------------------------------------------------\n",
    "mape = mean_absolute_percentage_error(y_true, y_pred)\n",
    "mape"
   ]
  }
 ],
 "metadata": {
  "interpreter": {
   "hash": "aee8b7b246df8f9039afb4144a1f6fd8d2ca17a180786b69acc140d282b71a49"
  },
  "kernelspec": {
   "display_name": "Python 3.9.1 64-bit",
   "language": "python",
   "name": "python3"
  },
  "language_info": {
   "codemirror_mode": {
    "name": "ipython",
    "version": 3
   },
   "file_extension": ".py",
   "mimetype": "text/x-python",
   "name": "python",
   "nbconvert_exporter": "python",
   "pygments_lexer": "ipython3",
   "version": "3.8.8"
  },
  "orig_nbformat": 4
 },
 "nbformat": 4,
 "nbformat_minor": 2
}
